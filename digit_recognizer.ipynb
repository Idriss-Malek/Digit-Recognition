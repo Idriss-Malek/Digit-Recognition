{
 "cells": [
  {
   "cell_type": "code",
   "execution_count": 1,
   "id": "eb5414fb",
   "metadata": {},
   "outputs": [],
   "source": [
    "import torch\n",
    "import torchvision\n",
    "import numpy as np\n",
    "import torch.nn as nn\n",
    "import torch.nn.functional as F\n",
    "import matplotlib.pyplot as plt\n",
    "%matplotlib inline\n",
    "# MNIST dataset\n",
    "dataset = torchvision.datasets.MNIST(root='..',download=True,train=True, transform=torchvision.transforms.ToTensor())\n",
    "\n",
    "# DataLoader for MNIST dataset\n",
    "dataloader = torch.utils.data.DataLoader(dataset, batch_size=64, shuffle=True)"
   ]
  },
  {
   "cell_type": "code",
   "execution_count": 2,
   "id": "73202685",
   "metadata": {},
   "outputs": [
    {
     "data": {
      "text/plain": [
       "<matplotlib.image.AxesImage at 0x1a6a6112a30>"
      ]
     },
     "execution_count": 2,
     "metadata": {},
     "output_type": "execute_result"
    },
    {
     "data": {
      "image/png": "[encoded data removed]",
      "text/plain": [
       "<Figure size 432x288 with 1 Axes>"
      ]
     },
     "metadata": {
      "needs_background": "light"
     },
     "output_type": "display_data"
    }
   ],
   "source": [
    "plt.imshow(dataset[0][0].squeeze(),cmap='gray')"
   ]
  },
  {
   "cell_type": "code",
   "execution_count": 3,
   "id": "bd3f57b7",
   "metadata": {},
   "outputs": [],
   "source": [
    "class Net(nn.Module):\n",
    "    def __init__(self):\n",
    "        super(Net, self).__init__()\n",
    "        self.conv1 = nn.Conv2d(1, 32, 3, padding=1)\n",
    "        self.conv2 = nn.Conv2d(32, 64, 3, padding=1)\n",
    "        self.pool = nn.MaxPool2d(2, 2)\n",
    "        self.fc1 = nn.Linear(64 * 7 * 7, 128)\n",
    "        self.fc2 = nn.Linear(128, 10)\n",
    "\n",
    "    def forward(self, x):\n",
    "        x = self.pool(F.relu(self.conv1(x)))\n",
    "        x = self.pool(F.relu(self.conv2(x)))\n",
    "        x = x.view(-1, 64 * 7 * 7)\n",
    "        x = F.relu(self.fc1(x))\n",
    "        x = self.fc2(x)\n",
    "        return x\n",
    "\n",
    "model = Net()"
   ]
  },
  {
   "cell_type": "code",
   "execution_count": 4,
   "id": "622df8f0",
   "metadata": {
    "scrolled": false
   },
   "outputs": [
    {
     "name": "stdout",
     "output_type": "stream",
     "text": [
      "Epoch 1 loss: 0.6648\n",
      "Epoch 2 loss: 0.1836\n",
      "Epoch 3 loss: 0.1143\n",
      "Epoch 4 loss: 0.0846\n",
      "Epoch 5 loss: 0.0699\n",
      "Epoch 6 loss: 0.0601\n",
      "Epoch 7 loss: 0.0527\n",
      "Epoch 8 loss: 0.0474\n",
      "Epoch 9 loss: 0.0427\n",
      "Epoch 10 loss: 0.0397\n",
      "Epoch 11 loss: 0.0360\n",
      "Epoch 12 loss: 0.0335\n",
      "Epoch 13 loss: 0.0307\n",
      "Epoch 14 loss: 0.0286\n",
      "Epoch 15 loss: 0.0264\n",
      "Epoch 16 loss: 0.0247\n",
      "Epoch 17 loss: 0.0233\n",
      "Epoch 18 loss: 0.0215\n",
      "Epoch 19 loss: 0.0201\n",
      "Epoch 20 loss: 0.0189\n",
      "Epoch 21 loss: 0.0175\n",
      "Epoch 22 loss: 0.0171\n",
      "Epoch 23 loss: 0.0158\n",
      "Epoch 24 loss: 0.0148\n",
      "Epoch 25 loss: 0.0141\n",
      "Epoch 26 loss: 0.0133\n",
      "Epoch 27 loss: 0.0117\n",
      "Epoch 28 loss: 0.0115\n",
      "Epoch 29 loss: 0.0103\n",
      "Epoch 30 loss: 0.0099\n",
      "Finished Training\n"
     ]
    }
   ],
   "source": [
    "import torch.optim as optim\n",
    "\n",
    "criterion = nn.CrossEntropyLoss()\n",
    "optimizer = optim.SGD(model.parameters(), lr=0.01, momentum=0.5)\n",
    "model.train()\n",
    "for epoch in range(30):  \n",
    "\n",
    "    total_loss = 0.0\n",
    "    for i, data in enumerate(dataloader, 0):\n",
    "        inputs, labels = data\n",
    "\n",
    "        optimizer.zero_grad()\n",
    "\n",
    "        outputs = model(inputs)\n",
    "        loss = criterion(outputs, labels)\n",
    "        loss.backward()\n",
    "        optimizer.step()\n",
    "\n",
    "        # print statistics\n",
    "        total_loss += loss.item()\n",
    "    print('Epoch {} loss: {:.4f}'.format(epoch + 1, total_loss / len(dataloader)))\n",
    "\n",
    "print('Finished Training')\n"
   ]
  },
  {
   "cell_type": "code",
   "execution_count": 5,
   "id": "48bca550",
   "metadata": {},
   "outputs": [],
   "source": [
    "test_data=np.loadtxt(\"test.csv\",delimiter=\",\")\n",
    "eval_data=np.loadtxt(\"train.csv\",delimiter=\",\")"
   ]
  },
  {
   "cell_type": "code",
   "execution_count": 6,
   "id": "c1916db5",
   "metadata": {},
   "outputs": [],
   "source": [
    "\n",
    "img_eval = torch.from_numpy((eval_data[:,1:]/255.).reshape(42000,28,28))\n",
    "targets_eval = torch.from_numpy(eval_data[:,0])\n",
    "img_test = torch.from_numpy((test_data/255.).reshape(28000,28,28))\n",
    "\n",
    "# Create TensorDataset\n",
    "dataset_eval = torch.utils.data.TensorDataset(img_eval, targets_eval)\n",
    "dataset_test = torch.utils.data.TensorDataset(img_test)\n",
    "\n",
    "# Create DataLoader\n",
    "dataloader_eval = torch.utils.data.DataLoader(dataset_eval, batch_size=32)\n",
    "dataloader_test = torch.utils.data.DataLoader(dataset_test, batch_size=1)\n"
   ]
  },
  {
   "cell_type": "code",
   "execution_count": 7,
   "id": "eaf516ab",
   "metadata": {},
   "outputs": [
    {
     "name": "stdout",
     "output_type": "stream",
     "text": [
      "Accuracy for evaluation data is : 99.7%\n"
     ]
    }
   ],
   "source": [
    "model.eval()\n",
    "model=model.double()\n",
    "with torch.no_grad():\n",
    "    total=0\n",
    "    correct=0\n",
    "    for i, data in enumerate(dataloader_eval, 0):\n",
    "        inputs, labels = data\n",
    "        outputs = model(inputs.unsqueeze(1))\n",
    "        _,predicted = torch.max(outputs.data, 1)\n",
    "        total+=labels.shape[0]\n",
    "        correct+=(predicted == labels).sum().item()\n",
    "    print('Accuracy for evaluation data is : {}%'.format(100*correct/total))"
   ]
  },
  {
   "cell_type": "code",
   "execution_count": 8,
   "id": "315c9a3d",
   "metadata": {},
   "outputs": [],
   "source": [
    "model.eval()\n",
    "model=model.double()\n",
    "with torch.no_grad():\n",
    "    preds=[]\n",
    "    for i, data in enumerate(dataloader_test, 0):\n",
    "        outputs = model(data[0].unsqueeze(1))\n",
    "        _,predicted = torch.max(outputs.data, 1)\n",
    "        preds.append(predicted.item())"
   ]
  },
  {
   "cell_type": "code",
   "execution_count": 9,
   "id": "92a617f0",
   "metadata": {},
   "outputs": [],
   "source": [
    "import pandas as pd \n",
    "pd.DataFrame({'ImageId':1+np.arange(len(preds)),'Label':preds}).set_index('ImageId').to_csv(\"result.csv\")"
   ]
  },
  {
   "cell_type": "code",
   "execution_count": null,
   "id": "448c77bc",
   "metadata": {},
   "outputs": [],
   "source": []
  }
 ],
 "metadata": {
  "kernelspec": {
   "display_name": "Python 3 (ipykernel)",
   "language": "python",
   "name": "python3"
  },
  "language_info": {
   "codemirror_mode": {
    "name": "ipython",
    "version": 3
   },
   "file_extension": ".py",
   "mimetype": "text/x-python",
   "name": "python",
   "nbconvert_exporter": "python",
   "pygments_lexer": "ipython3",
   "version": "3.8.8"
  }
 },
 "nbformat": 4,
 "nbformat_minor": 5
}
